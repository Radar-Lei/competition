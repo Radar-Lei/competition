{
 "cells": [
  {
   "cell_type": "code",
   "execution_count": 1,
   "metadata": {},
   "outputs": [],
   "source": [
    "import numpy as np\n",
    "import pandas as pd"
   ]
  },
  {
   "cell_type": "code",
   "execution_count": 2,
   "metadata": {},
   "outputs": [],
   "source": [
    "pred = np.load('./results/20230711_190414_dm64_df32_el2_topk3_nk6_fq_h_Exp/pred.npy') # (D,L,K)"
   ]
  },
  {
   "cell_type": "code",
   "execution_count": 3,
   "metadata": {},
   "outputs": [],
   "source": [
    "D, L, K = pred.shape\n",
    "pred = pred.reshape(D * L, K) # (D*L,K)\n",
    "\n",
    "# Define the start and end times of each range\n",
    "ranges_5min = [('05:00:00', '17:55:00')]\n",
    "\n",
    "# Define the start and end dates for the DatetimeIndex\n",
    "start_date = '2023-07-01'\n",
    "end_date = '2023-07-07'\n",
    "\n",
    "# Create an empty list to store the DatetimeIndex values\n",
    "index_values = []\n",
    "\n",
    "# Loop through each date\n",
    "for date in pd.date_range(start=start_date, end=end_date, freq='D'):\n",
    "    # Loop through each range and generate the DatetimeIndex values within that range for the current date\n",
    "    for start_time, end_time in ranges_5min:\n",
    "        index_values += pd.date_range(start=f'{date.date()} {start_time}', end=f'{date.date()} {end_time}', freq='5min', inclusive='both').tolist()\n",
    "\n",
    "# Create the DatetimeIndex from the list of values\n",
    "datetime_5min_test_ids_full = pd.DatetimeIndex(index_values)\n",
    "\n",
    "pred_df = pd.DataFrame(data=pred, index=datetime_5min_test_ids_full)\n",
    "\n",
    "\n",
    "# pred_time_range\n",
    "pred_ranges_5min = [('08:00:00', '08:55:00'), ('12:30:00', '13:25:00'), ('17:00:00', '17:55:00')]\n",
    "\n",
    "# Define the start and end dates for the DatetimeIndex\n",
    "start_date = '2023-07-01'\n",
    "end_date = '2023-07-07'\n",
    "\n",
    "# Create an empty list to store the DatetimeIndex values\n",
    "index_values = []\n",
    "\n",
    "# Loop through each date\n",
    "for date in pd.date_range(start=start_date, end=end_date, freq='D'):\n",
    "    # Loop through each range and generate the DatetimeIndex values within that range for the current date\n",
    "    for start_time, end_time in pred_ranges_5min:\n",
    "        index_values += pd.date_range(start=f'{date.date()} {start_time}', end=f'{date.date()} {end_time}', freq='5min', inclusive='both').tolist()\n",
    "\n",
    "datetime_5min_test_ids = pd.DatetimeIndex(index_values)\n",
    "\n",
    "pred_df = pred_df.loc[datetime_5min_test_ids]"
   ]
  },
  {
   "cell_type": "code",
   "execution_count": 4,
   "metadata": {},
   "outputs": [],
   "source": [
    "result_flow_pred = np.sum(pred_df.values[:,:40].reshape((252,10,4)), axis=2)\n",
    "result_speed_pred = np.round(np.sum((pred_df.values[:,:40] * pred_df.values[:,40:]).reshape((252,10,4)), axis=2) / result_flow_pred, decimals=2)\n",
    "result_flow_pred = np.round(result_flow_pred, decimals=0)\n",
    "final_results = np.hstack((result_flow_pred, result_speed_pred))"
   ]
  },
  {
   "cell_type": "code",
   "execution_count": 5,
   "metadata": {},
   "outputs": [
    {
     "data": {
      "text/plain": [
       "(252, 20)"
      ]
     },
     "execution_count": 5,
     "metadata": {},
     "output_type": "execute_result"
    }
   ],
   "source": [
    "final_results.shape"
   ]
  },
  {
   "cell_type": "code",
   "execution_count": 7,
   "metadata": {},
   "outputs": [],
   "source": [
    "template_df = pd.read_csv('./submit_template.csv',index_col=['Time', 'Week'])"
   ]
  },
  {
   "cell_type": "code",
   "execution_count": null,
   "metadata": {},
   "outputs": [],
   "source": [
    "template_df.iloc[:,:] = final_results"
   ]
  },
  {
   "cell_type": "code",
   "execution_count": null,
   "metadata": {},
   "outputs": [],
   "source": [
    "template_df.iloc[:, :10] = template_df.iloc[:, :10].astype(int)\n",
    "template_df.iloc[:, 10:] = template_df.iloc[:, 10:].astype(float).applymap(\"{:.2f}\".format)"
   ]
  },
  {
   "cell_type": "code",
   "execution_count": null,
   "metadata": {},
   "outputs": [],
   "source": [
    "template_df.to_csv('./results/submit.csv', index=True)"
   ]
  },
  {
   "cell_type": "code",
   "execution_count": null,
   "metadata": {},
   "outputs": [],
   "source": []
  }
 ],
 "metadata": {
  "kernelspec": {
   "display_name": "torch131",
   "language": "python",
   "name": "python3"
  },
  "language_info": {
   "codemirror_mode": {
    "name": "ipython",
    "version": 3
   },
   "file_extension": ".py",
   "mimetype": "text/x-python",
   "name": "python",
   "nbconvert_exporter": "python",
   "pygments_lexer": "ipython3",
   "version": "3.9.16"
  },
  "orig_nbformat": 4
 },
 "nbformat": 4,
 "nbformat_minor": 2
}
