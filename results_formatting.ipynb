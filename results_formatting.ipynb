{
 "cells": [
  {
   "cell_type": "code",
   "execution_count": 1,
   "metadata": {},
   "outputs": [],
   "source": [
    "import numpy as np\n",
    "import pandas as pd"
   ]
  },
  {
   "cell_type": "code",
   "execution_count": 2,
   "metadata": {},
   "outputs": [],
   "source": [
    "pred = np.load('./results/20230712_005035_dm64_df32_el2_topk3_nk3_fq_h_Exp/pred.npy') # (D,L,K)"
   ]
  },
  {
   "cell_type": "code",
   "execution_count": 3,
   "metadata": {},
   "outputs": [],
   "source": [
    "D, L, K = pred.shape\n",
    "pred = pred.reshape(D * L, K) # (D*L,K)\n",
    "\n",
    "# Define the start and end times of each range\n",
    "ranges_5min = [('05:00:00', '17:55:00')]\n",
    "\n",
    "# Define the start and end dates for the DatetimeIndex\n",
    "start_date = '2023-07-01'\n",
    "end_date = '2023-07-07'\n",
    "\n",
    "# Create an empty list to store the DatetimeIndex values\n",
    "index_values = []\n",
    "\n",
    "# Loop through each date\n",
    "for date in pd.date_range(start=start_date, end=end_date, freq='D'):\n",
    "    # Loop through each range and generate the DatetimeIndex values within that range for the current date\n",
    "    for start_time, end_time in ranges_5min:\n",
    "        index_values += pd.date_range(start=f'{date.date()} {start_time}', end=f'{date.date()} {end_time}', freq='5min', inclusive='both').tolist()\n",
    "\n",
    "# Create the DatetimeIndex from the list of values\n",
    "datetime_5min_test_ids_full = pd.DatetimeIndex(index_values)\n",
    "\n",
    "pred_df = pd.DataFrame(data=pred, index=datetime_5min_test_ids_full)\n",
    "\n",
    "\n",
    "# pred_time_range\n",
    "pred_ranges_5min = [('08:00:00', '08:55:00'), ('12:30:00', '13:25:00'), ('17:00:00', '17:55:00')]\n",
    "\n",
    "# Define the start and end dates for the DatetimeIndex\n",
    "start_date = '2023-07-01'\n",
    "end_date = '2023-07-07'\n",
    "\n",
    "# Create an empty list to store the DatetimeIndex values\n",
    "index_values = []\n",
    "\n",
    "# Loop through each date\n",
    "for date in pd.date_range(start=start_date, end=end_date, freq='D'):\n",
    "    # Loop through each range and generate the DatetimeIndex values within that range for the current date\n",
    "    for start_time, end_time in pred_ranges_5min:\n",
    "        index_values += pd.date_range(start=f'{date.date()} {start_time}', end=f'{date.date()} {end_time}', freq='5min', inclusive='both').tolist()\n",
    "\n",
    "datetime_5min_test_ids = pd.DatetimeIndex(index_values)\n",
    "\n",
    "pred_df = pred_df.loc[datetime_5min_test_ids]"
   ]
  },
  {
   "cell_type": "code",
   "execution_count": 7,
   "metadata": {},
   "outputs": [],
   "source": [
    "template_df = pd.read_csv('./submit_template.csv',index_col=['Time', 'Week'])"
   ]
  },
  {
   "cell_type": "code",
   "execution_count": 8,
   "metadata": {},
   "outputs": [],
   "source": [
    "template_df.iloc[:,:] = pred_df.values"
   ]
  },
  {
   "cell_type": "code",
   "execution_count": 9,
   "metadata": {},
   "outputs": [],
   "source": [
    "template_df.iloc[:, :10] = template_df.iloc[:, :10].astype(int)\n",
    "template_df.iloc[:, 10:] = template_df.iloc[:, 10:].astype(float).applymap(\"{:.2f}\".format)"
   ]
  },
  {
   "cell_type": "code",
   "execution_count": null,
   "metadata": {},
   "outputs": [],
   "source": [
    "template_df.to_csv('./results/submit.csv', index=True)"
   ]
  },
  {
   "cell_type": "code",
   "execution_count": null,
   "metadata": {},
   "outputs": [],
   "source": []
  }
 ],
 "metadata": {
  "kernelspec": {
   "display_name": "torch131",
   "language": "python",
   "name": "python3"
  },
  "language_info": {
   "codemirror_mode": {
    "name": "ipython",
    "version": 3
   },
   "file_extension": ".py",
   "mimetype": "text/x-python",
   "name": "python",
   "nbconvert_exporter": "python",
   "pygments_lexer": "ipython3",
   "version": "3.9.16"
  },
  "orig_nbformat": 4
 },
 "nbformat": 4,
 "nbformat_minor": 2
}
